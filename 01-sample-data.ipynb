{
 "cells": [
  {
   "cell_type": "markdown",
   "id": "78ee31c7",
   "metadata": {},
   "source": [
    "# Explore and Sample MedQuAD"
   ]
  },
  {
   "cell_type": "code",
   "execution_count": 76,
   "id": "961f6ce6",
   "metadata": {},
   "outputs": [],
   "source": [
    "import pandas as pd"
   ]
  },
  {
   "cell_type": "markdown",
   "id": "bea6705c",
   "metadata": {},
   "source": [
    "## Load & Clean Data"
   ]
  },
  {
   "cell_type": "markdown",
   "id": "4ce96db8",
   "metadata": {},
   "source": [
    "- Dataset: MedQuAD \n",
    "    - 47,457 layperson medical question-answer pairs"
   ]
  },
  {
   "cell_type": "code",
   "execution_count": 77,
   "id": "6a0330f8",
   "metadata": {},
   "outputs": [
    {
     "name": "stdout",
     "output_type": "stream",
     "text": [
      "Shape: (47441, 13)\n"
     ]
    },
    {
     "data": {
      "text/html": [
       "<div>\n",
       "<style scoped>\n",
       "    .dataframe tbody tr th:only-of-type {\n",
       "        vertical-align: middle;\n",
       "    }\n",
       "\n",
       "    .dataframe tbody tr th {\n",
       "        vertical-align: top;\n",
       "    }\n",
       "\n",
       "    .dataframe thead th {\n",
       "        text-align: right;\n",
       "    }\n",
       "</style>\n",
       "<table border=\"1\" class=\"dataframe\">\n",
       "  <thead>\n",
       "    <tr style=\"text-align: right;\">\n",
       "      <th></th>\n",
       "      <th>document_id</th>\n",
       "      <th>document_source</th>\n",
       "      <th>document_url</th>\n",
       "      <th>category</th>\n",
       "      <th>umls_cui</th>\n",
       "      <th>umls_semantic_types</th>\n",
       "      <th>umls_semantic_group</th>\n",
       "      <th>synonyms</th>\n",
       "      <th>question_id</th>\n",
       "      <th>question_focus</th>\n",
       "      <th>question_type</th>\n",
       "      <th>question</th>\n",
       "      <th>answer</th>\n",
       "    </tr>\n",
       "  </thead>\n",
       "  <tbody>\n",
       "    <tr>\n",
       "      <th>0</th>\n",
       "      <td>0000559</td>\n",
       "      <td>GHR</td>\n",
       "      <td>https://ghr.nlm.nih.gov/condition/keratoderma-...</td>\n",
       "      <td>None</td>\n",
       "      <td>C0343073</td>\n",
       "      <td>T047</td>\n",
       "      <td>Disorders</td>\n",
       "      <td>KWWH</td>\n",
       "      <td>0000559-1</td>\n",
       "      <td>keratoderma with woolly hair</td>\n",
       "      <td>information</td>\n",
       "      <td>What is (are) keratoderma with woolly hair ?</td>\n",
       "      <td>Keratoderma with woolly hair is a group of rel...</td>\n",
       "    </tr>\n",
       "    <tr>\n",
       "      <th>1</th>\n",
       "      <td>0000559</td>\n",
       "      <td>GHR</td>\n",
       "      <td>https://ghr.nlm.nih.gov/condition/keratoderma-...</td>\n",
       "      <td>None</td>\n",
       "      <td>C0343073</td>\n",
       "      <td>T047</td>\n",
       "      <td>Disorders</td>\n",
       "      <td>KWWH</td>\n",
       "      <td>0000559-2</td>\n",
       "      <td>keratoderma with woolly hair</td>\n",
       "      <td>frequency</td>\n",
       "      <td>How many people are affected by keratoderma wi...</td>\n",
       "      <td>Keratoderma with woolly hair is rare; its prev...</td>\n",
       "    </tr>\n",
       "    <tr>\n",
       "      <th>2</th>\n",
       "      <td>0000559</td>\n",
       "      <td>GHR</td>\n",
       "      <td>https://ghr.nlm.nih.gov/condition/keratoderma-...</td>\n",
       "      <td>None</td>\n",
       "      <td>C0343073</td>\n",
       "      <td>T047</td>\n",
       "      <td>Disorders</td>\n",
       "      <td>KWWH</td>\n",
       "      <td>0000559-3</td>\n",
       "      <td>keratoderma with woolly hair</td>\n",
       "      <td>genetic changes</td>\n",
       "      <td>What are the genetic changes related to kerato...</td>\n",
       "      <td>Mutations in the JUP, DSP, DSC2, and KANK2 gen...</td>\n",
       "    </tr>\n",
       "    <tr>\n",
       "      <th>3</th>\n",
       "      <td>0000559</td>\n",
       "      <td>GHR</td>\n",
       "      <td>https://ghr.nlm.nih.gov/condition/keratoderma-...</td>\n",
       "      <td>None</td>\n",
       "      <td>C0343073</td>\n",
       "      <td>T047</td>\n",
       "      <td>Disorders</td>\n",
       "      <td>KWWH</td>\n",
       "      <td>0000559-4</td>\n",
       "      <td>keratoderma with woolly hair</td>\n",
       "      <td>inheritance</td>\n",
       "      <td>Is keratoderma with woolly hair inherited ?</td>\n",
       "      <td>Most cases of keratoderma with woolly hair hav...</td>\n",
       "    </tr>\n",
       "    <tr>\n",
       "      <th>4</th>\n",
       "      <td>0000559</td>\n",
       "      <td>GHR</td>\n",
       "      <td>https://ghr.nlm.nih.gov/condition/keratoderma-...</td>\n",
       "      <td>None</td>\n",
       "      <td>C0343073</td>\n",
       "      <td>T047</td>\n",
       "      <td>Disorders</td>\n",
       "      <td>KWWH</td>\n",
       "      <td>0000559-5</td>\n",
       "      <td>keratoderma with woolly hair</td>\n",
       "      <td>treatment</td>\n",
       "      <td>What are the treatments for keratoderma with w...</td>\n",
       "      <td>These resources address the diagnosis or manag...</td>\n",
       "    </tr>\n",
       "  </tbody>\n",
       "</table>\n",
       "</div>"
      ],
      "text/plain": [
       "  document_id document_source  \\\n",
       "0     0000559             GHR   \n",
       "1     0000559             GHR   \n",
       "2     0000559             GHR   \n",
       "3     0000559             GHR   \n",
       "4     0000559             GHR   \n",
       "\n",
       "                                        document_url category  umls_cui  \\\n",
       "0  https://ghr.nlm.nih.gov/condition/keratoderma-...     None  C0343073   \n",
       "1  https://ghr.nlm.nih.gov/condition/keratoderma-...     None  C0343073   \n",
       "2  https://ghr.nlm.nih.gov/condition/keratoderma-...     None  C0343073   \n",
       "3  https://ghr.nlm.nih.gov/condition/keratoderma-...     None  C0343073   \n",
       "4  https://ghr.nlm.nih.gov/condition/keratoderma-...     None  C0343073   \n",
       "\n",
       "  umls_semantic_types umls_semantic_group synonyms question_id  \\\n",
       "0                T047           Disorders     KWWH   0000559-1   \n",
       "1                T047           Disorders     KWWH   0000559-2   \n",
       "2                T047           Disorders     KWWH   0000559-3   \n",
       "3                T047           Disorders     KWWH   0000559-4   \n",
       "4                T047           Disorders     KWWH   0000559-5   \n",
       "\n",
       "                 question_focus    question_type  \\\n",
       "0  keratoderma with woolly hair      information   \n",
       "1  keratoderma with woolly hair        frequency   \n",
       "2  keratoderma with woolly hair  genetic changes   \n",
       "3  keratoderma with woolly hair      inheritance   \n",
       "4  keratoderma with woolly hair        treatment   \n",
       "\n",
       "                                            question  \\\n",
       "0       What is (are) keratoderma with woolly hair ?   \n",
       "1  How many people are affected by keratoderma wi...   \n",
       "2  What are the genetic changes related to kerato...   \n",
       "3        Is keratoderma with woolly hair inherited ?   \n",
       "4  What are the treatments for keratoderma with w...   \n",
       "\n",
       "                                              answer  \n",
       "0  Keratoderma with woolly hair is a group of rel...  \n",
       "1  Keratoderma with woolly hair is rare; its prev...  \n",
       "2  Mutations in the JUP, DSP, DSC2, and KANK2 gen...  \n",
       "3  Most cases of keratoderma with woolly hair hav...  \n",
       "4  These resources address the diagnosis or manag...  "
      ]
     },
     "execution_count": 77,
     "metadata": {},
     "output_type": "execute_result"
    }
   ],
   "source": [
    "df = pd.read_parquet(\"hf://datasets/lavita/MedQuAD/data/train-00000-of-00001-e36383d177026d53.parquet\")\n",
    "print('Shape:', df.shape)\n",
    "df.head()"
   ]
  },
  {
   "cell_type": "markdown",
   "id": "337d33ce",
   "metadata": {},
   "source": [
    "### Drop Missing Answers"
   ]
  },
  {
   "cell_type": "code",
   "execution_count": 78,
   "id": "7ed9b18c",
   "metadata": {},
   "outputs": [
    {
     "data": {
      "text/plain": [
       "document_id                5\n",
       "document_source            0\n",
       "document_url               0\n",
       "category               15431\n",
       "umls_cui               16024\n",
       "umls_semantic_types    16066\n",
       "umls_semantic_group    16024\n",
       "synonyms               22772\n",
       "question_id                0\n",
       "question_focus            14\n",
       "question_type              0\n",
       "question                   0\n",
       "answer                 31034\n",
       "dtype: int64"
      ]
     },
     "execution_count": 78,
     "metadata": {},
     "output_type": "execute_result"
    }
   ],
   "source": [
    "df.isna().sum()"
   ]
  },
  {
   "cell_type": "code",
   "execution_count": 79,
   "id": "669ee7ab",
   "metadata": {},
   "outputs": [
    {
     "name": "stdout",
     "output_type": "stream",
     "text": [
      "Shape: (16407, 13)\n"
     ]
    }
   ],
   "source": [
    "df.dropna(subset=['answer'], inplace=True)\n",
    "print('Shape:', df.shape)"
   ]
  },
  {
   "cell_type": "markdown",
   "id": "564fea69",
   "metadata": {},
   "source": [
    "### Drop Duplicate QAs"
   ]
  },
  {
   "cell_type": "code",
   "execution_count": 80,
   "id": "ddad16ea",
   "metadata": {},
   "outputs": [
    {
     "name": "stdout",
     "output_type": "stream",
     "text": [
      "Duplicates: 48\n",
      "New Shape: (16359, 13)\n"
     ]
    }
   ],
   "source": [
    "print('Duplicates:', df.duplicated(subset=['question', 'answer']).sum())\n",
    "df.drop_duplicates(subset=['question', 'answer'], inplace=True)\n",
    "print('New Shape:', df.shape)"
   ]
  },
  {
   "cell_type": "markdown",
   "id": "5994cf0d",
   "metadata": {},
   "source": [
    "### Clean Up Questions and Answers"
   ]
  },
  {
   "cell_type": "code",
   "execution_count": 81,
   "id": "670b204f",
   "metadata": {},
   "outputs": [
    {
     "name": "stdout",
     "output_type": "stream",
     "text": [
      "Max question length: 27\n",
      "Max answer length: 4281\n"
     ]
    }
   ],
   "source": [
    "# Get max word count of question and answer\n",
    "def get_max_length(df, column):\n",
    "    return df[column].str.split().str.len().max()\n",
    "\n",
    "max_question_length = get_max_length(df, 'question')\n",
    "max_answer_length = get_max_length(df, 'answer')\n",
    "print('Max question length:', max_question_length)\n",
    "print('Max answer length:', max_answer_length)"
   ]
  },
  {
   "cell_type": "code",
   "execution_count": 82,
   "id": "fcd73878",
   "metadata": {},
   "outputs": [
    {
     "name": "stdout",
     "output_type": "stream",
     "text": [
      "New max question length: 20\n",
      "New max answer length: 60\n",
      "Shape: (3373, 13)\n"
     ]
    }
   ],
   "source": [
    "# Remove excess whitespace from answer\n",
    "df[\"answer\"] = df[\"answer\"].str.replace(r\"[^\\S\\r\\n]+\", \" \", regex=True).str.strip()\n",
    "# Remove space before question mark\n",
    "df[\"question\"] = df[\"question\"].str.replace(r\"\\s+\\?\", \"?\", regex=True)\n",
    "# Remove question from answer\n",
    "df[\"answer\"] = df[\"answer\"].str.replace(r\"^.*?\\?\\s*\", \"\", regex=True).str.strip()\n",
    "# Keep questions that are not too long\n",
    "df = df[df['question'].str.split().str.len() <= 20]\n",
    "max_answer_length = get_max_length(df, 'question')\n",
    "print('New max question length:', max_answer_length)\n",
    "# Keep answers that are not too long\n",
    "df = df[df['answer'].str.split().str.len() <= 60]\n",
    "max_answer_length = get_max_length(df, 'answer')\n",
    "print('New max answer length:', max_answer_length)\n",
    "print('Shape:', df.shape)"
   ]
  },
  {
   "cell_type": "markdown",
   "id": "d1ab9be6",
   "metadata": {},
   "source": [
    "### Drop Small question_type Groups"
   ]
  },
  {
   "cell_type": "code",
   "execution_count": 83,
   "id": "42277cf4",
   "metadata": {},
   "outputs": [
    {
     "data": {
      "text/plain": [
       "question_type\n",
       "frequency          1019\n",
       "treatment           788\n",
       "inheritance         641\n",
       "information         197\n",
       "outlook             197\n",
       "research            148\n",
       "causes              128\n",
       "exams and tests      79\n",
       "symptoms             63\n",
       "susceptibility       47\n",
       "considerations       30\n",
       "prevention           24\n",
       "complications         7\n",
       "genetic changes       5\n",
       "Name: count, dtype: int64"
      ]
     },
     "execution_count": 83,
     "metadata": {},
     "output_type": "execute_result"
    }
   ],
   "source": [
    "df['question_type'].value_counts()"
   ]
  },
  {
   "cell_type": "code",
   "execution_count": 84,
   "id": "9deae2e6",
   "metadata": {},
   "outputs": [
    {
     "name": "stdout",
     "output_type": "stream",
     "text": [
      "Shape: (3307, 13)\n"
     ]
    }
   ],
   "source": [
    "small_groups = ['stages', 'complications', 'support groups', 'prevention', 'considerations', 'genetic changes']\n",
    "df = df.loc[~(df['question_type'].isin(small_groups))]\n",
    "print('Shape:', df.shape)"
   ]
  },
  {
   "cell_type": "markdown",
   "id": "a12a132e",
   "metadata": {},
   "source": [
    "## Sample and Save QAs"
   ]
  },
  {
   "cell_type": "code",
   "execution_count": 85,
   "id": "174dd5e0",
   "metadata": {},
   "outputs": [
    {
     "name": "stdout",
     "output_type": "stream",
     "text": [
      "Shape: (3000, 14)\n"
     ]
    },
    {
     "data": {
      "text/plain": [
       "question_type\n",
       "frequency          750\n",
       "treatment          750\n",
       "inheritance        641\n",
       "information        197\n",
       "outlook            197\n",
       "research           148\n",
       "causes             128\n",
       "exams and tests     79\n",
       "symptoms            63\n",
       "susceptibility      47\n",
       "Name: count, dtype: int64"
      ]
     },
     "execution_count": 85,
     "metadata": {},
     "output_type": "execute_result"
    }
   ],
   "source": [
    "def balanced_group_sample(df, group_cols, n_per_group):\n",
    "    # Group by specified cols\n",
    "    grouped = df.groupby(group_cols)\n",
    "    # Sample n rows (or all, if size is less than n) per group\n",
    "    balanced_sample = grouped.apply(\n",
    "        lambda x: x.sample(n=min(n_per_group, len(x)), random_state=42),\n",
    "        include_groups=False\n",
    "    ).reset_index()\n",
    "    return balanced_sample\n",
    "\n",
    "sampled_df = balanced_group_sample(df, group_cols=[\"question_type\"], n_per_group=750)\n",
    "\n",
    "# Check shape and distribution\n",
    "print('Shape:', sampled_df.shape)\n",
    "sampled_df['question_type'].value_counts()\n"
   ]
  },
  {
   "cell_type": "code",
   "execution_count": 86,
   "id": "4682cfde",
   "metadata": {},
   "outputs": [
    {
     "data": {
      "text/html": [
       "<div>\n",
       "<style scoped>\n",
       "    .dataframe tbody tr th:only-of-type {\n",
       "        vertical-align: middle;\n",
       "    }\n",
       "\n",
       "    .dataframe tbody tr th {\n",
       "        vertical-align: top;\n",
       "    }\n",
       "\n",
       "    .dataframe thead th {\n",
       "        text-align: right;\n",
       "    }\n",
       "</style>\n",
       "<table border=\"1\" class=\"dataframe\">\n",
       "  <thead>\n",
       "    <tr style=\"text-align: right;\">\n",
       "      <th></th>\n",
       "      <th>question</th>\n",
       "      <th>answer</th>\n",
       "    </tr>\n",
       "  </thead>\n",
       "  <tbody>\n",
       "    <tr>\n",
       "      <th>0</th>\n",
       "      <td>What causes Periodic fever, aphthous stomatiti...</td>\n",
       "      <td>The cause of PFAPA is unknown, although viral ...</td>\n",
       "    </tr>\n",
       "    <tr>\n",
       "      <th>1</th>\n",
       "      <td>What causes Prinzmetal's variant angina?</td>\n",
       "      <td>Prinzmetal's variant angina is caused by coron...</td>\n",
       "    </tr>\n",
       "    <tr>\n",
       "      <th>2</th>\n",
       "      <td>What causes Craniopharyngioma?</td>\n",
       "      <td>Craniopharyngiomas are thought to arise from e...</td>\n",
       "    </tr>\n",
       "    <tr>\n",
       "      <th>3</th>\n",
       "      <td>What causes Lemierre syndrome?</td>\n",
       "      <td>In about 90% of cases, Lemierre syndrome is ca...</td>\n",
       "    </tr>\n",
       "    <tr>\n",
       "      <th>4</th>\n",
       "      <td>What causes Childhood Brain and Spinal Cord Tu...</td>\n",
       "      <td>The cause of most childhood brain and spinal c...</td>\n",
       "    </tr>\n",
       "    <tr>\n",
       "      <th>...</th>\n",
       "      <td>...</td>\n",
       "      <td>...</td>\n",
       "    </tr>\n",
       "    <tr>\n",
       "      <th>2995</th>\n",
       "      <td>What are the treatments for Yellow nail syndrome?</td>\n",
       "      <td>You can find further information on treatment ...</td>\n",
       "    </tr>\n",
       "    <tr>\n",
       "      <th>2996</th>\n",
       "      <td>What are the treatments for Mitochondrial comp...</td>\n",
       "      <td>Treatment options for complex II deficiency ma...</td>\n",
       "    </tr>\n",
       "    <tr>\n",
       "      <th>2997</th>\n",
       "      <td>What are the treatments for Hereditary Spastic...</td>\n",
       "      <td>There are no specific treatments to prevent, s...</td>\n",
       "    </tr>\n",
       "    <tr>\n",
       "      <th>2998</th>\n",
       "      <td>What are the treatments for Vohwinkel syndrome?</td>\n",
       "      <td>These resources address the diagnosis or manag...</td>\n",
       "    </tr>\n",
       "    <tr>\n",
       "      <th>2999</th>\n",
       "      <td>What are the treatments for Hydromyelia?</td>\n",
       "      <td>Generally, physicians recommend surgery for ch...</td>\n",
       "    </tr>\n",
       "  </tbody>\n",
       "</table>\n",
       "<p>3000 rows × 2 columns</p>\n",
       "</div>"
      ],
      "text/plain": [
       "                                               question  \\\n",
       "0     What causes Periodic fever, aphthous stomatiti...   \n",
       "1              What causes Prinzmetal's variant angina?   \n",
       "2                        What causes Craniopharyngioma?   \n",
       "3                        What causes Lemierre syndrome?   \n",
       "4     What causes Childhood Brain and Spinal Cord Tu...   \n",
       "...                                                 ...   \n",
       "2995  What are the treatments for Yellow nail syndrome?   \n",
       "2996  What are the treatments for Mitochondrial comp...   \n",
       "2997  What are the treatments for Hereditary Spastic...   \n",
       "2998    What are the treatments for Vohwinkel syndrome?   \n",
       "2999           What are the treatments for Hydromyelia?   \n",
       "\n",
       "                                                 answer  \n",
       "0     The cause of PFAPA is unknown, although viral ...  \n",
       "1     Prinzmetal's variant angina is caused by coron...  \n",
       "2     Craniopharyngiomas are thought to arise from e...  \n",
       "3     In about 90% of cases, Lemierre syndrome is ca...  \n",
       "4     The cause of most childhood brain and spinal c...  \n",
       "...                                                 ...  \n",
       "2995  You can find further information on treatment ...  \n",
       "2996  Treatment options for complex II deficiency ma...  \n",
       "2997  There are no specific treatments to prevent, s...  \n",
       "2998  These resources address the diagnosis or manag...  \n",
       "2999  Generally, physicians recommend surgery for ch...  \n",
       "\n",
       "[3000 rows x 2 columns]"
      ]
     },
     "execution_count": 86,
     "metadata": {},
     "output_type": "execute_result"
    }
   ],
   "source": [
    "# Save sampled data to CSV\n",
    "sampled_df.to_csv('../data/medquad_sampled.csv', index=False)\n",
    "# Save QA only to jsonl\n",
    "sampled_df = sampled_df[['question', 'answer']]\n",
    "sampled_df.to_json('../data/medquad_sampled.jsonl', orient='records', lines=True)\n",
    "sampled_df"
   ]
  }
 ],
 "metadata": {
  "kernelspec": {
   "display_name": "AIHC",
   "language": "python",
   "name": "python3"
  },
  "language_info": {
   "codemirror_mode": {
    "name": "ipython",
    "version": 3
   },
   "file_extension": ".py",
   "mimetype": "text/x-python",
   "name": "python",
   "nbconvert_exporter": "python",
   "pygments_lexer": "ipython3",
   "version": "3.11.10"
  }
 },
 "nbformat": 4,
 "nbformat_minor": 5
}
